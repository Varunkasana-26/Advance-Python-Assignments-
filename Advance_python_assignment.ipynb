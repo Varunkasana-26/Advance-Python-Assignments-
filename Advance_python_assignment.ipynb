{
  "nbformat": 4,
  "nbformat_minor": 0,
  "metadata": {
    "colab": {
      "provenance": [],
      "authorship_tag": "ABX9TyN/zNCTX0SKCxsj6bgz4QZQ",
      "include_colab_link": true
    },
    "kernelspec": {
      "name": "python3",
      "display_name": "Python 3"
    },
    "language_info": {
      "name": "python"
    }
  },
  "cells": [
    {
      "cell_type": "markdown",
      "metadata": {
        "id": "view-in-github",
        "colab_type": "text"
      },
      "source": [
        "<a href=\"https://colab.research.google.com/github/Varunkasana-26/Advance-Python-Assignments-/blob/main/Advance_python_assignment.ipynb\" target=\"_parent\"><img src=\"https://colab.research.google.com/assets/colab-badge.svg\" alt=\"Open In Colab\"/></a>"
      ]
    },
    {
      "cell_type": "markdown",
      "source": [
        "QUES - 1 Create a file that contains 1000 lines of random strings."
      ],
      "metadata": {
        "id": "SDBhRaGHDkmJ"
      }
    },
    {
      "cell_type": "code",
      "source": [
        "import random as r\n",
        "import numpy as np\n",
        "import pandas as pd\n",
        "import string as s"
      ],
      "metadata": {
        "id": "_QJzjmvaDxVW"
      },
      "execution_count": 1,
      "outputs": []
    },
    {
      "cell_type": "code",
      "source": [
        "with open('random_strings.txt', 'w') as f:\n",
        "  for i in range(1000):\n",
        "    r_s=''.join(r.choices(s.ascii_letters, k=10))\n",
        "    f.write(r_s+'\\n')"
      ],
      "metadata": {
        "id": "lu2pRHqED3Gy"
      },
      "execution_count": 2,
      "outputs": []
    },
    {
      "cell_type": "markdown",
      "source": [
        "Oues - 2 Create a file that contains multiple lines of random strings and file size must be 5 MB."
      ],
      "metadata": {
        "id": "Pb9pDIFAGgmR"
      }
    },
    {
      "cell_type": "code",
      "source": [
        "import random\n",
        "import string\n",
        "import pandas as pd\n",
        "import numpy as np"
      ],
      "metadata": {
        "id": "e-QMwLuZIn4M"
      },
      "execution_count": 11,
      "outputs": []
    },
    {
      "cell_type": "code",
      "source": [
        "def generate_random_string(length):\n",
        "    return ''.join(random.choice(string.digits + string.ascii_letters) for _ in range(length))\n",
        "def create_file(file_size_mb):\n",
        "    file_size_bytes = file_size_mb*1024*1024\n",
        "    chunk_size = 1024\n",
        "    with open('random_strings23.txt', 'wb') as f:\n",
        "      for i in range(0,file_size_bytes,chunk_size):\n",
        "        chunk = generate_random_string(chunk_size)\n",
        "        f.write(chunk.encode())\n",
        "        if f.tell() + chunk_size >= file_size_bytes:\n",
        "          break\n",
        "create_file(5)"
      ],
      "metadata": {
        "id": "aEaIoJkwGjPl"
      },
      "execution_count": 30,
      "outputs": []
    },
    {
      "cell_type": "markdown",
      "source": [
        "QUES - 3 Create 10 files that contains multiple lines of random strings and file size of each file must be 5 MB"
      ],
      "metadata": {
        "id": "MsBH4DjyrEQe"
      }
    },
    {
      "cell_type": "code",
      "source": [
        "import os\n",
        "import random\n",
        "import string\n",
        "\n",
        "def generate_random_string(length):\n",
        "    return ''.join(random.choice(string.ascii_letters + string.digits) for _ in range(length))\n",
        "\n",
        "def create_file(filename, size_in_mb):\n",
        "    with open(filename, 'w') as f:\n",
        "        while os.path.getsize(filename) < size_in_mb * 1024 * 1024:\n",
        "            f.write(generate_random_string(1024) + '\\n')\n",
        "\n",
        "for i in range(10):\n",
        "    filename = f\"file_{i+1}.txt\"\n",
        "    create_file(filename, 5)\n",
        "    print(f\"File {filename} created with size {os.path.getsize(filename) / 1024 / 1024:.2f} MB\")"
      ],
      "metadata": {
        "colab": {
          "base_uri": "https://localhost:8080/"
        },
        "id": "9C-2R696rDEJ",
        "outputId": "f3871bbc-c234-4baa-8bf3-b8ced9f6f6b6"
      },
      "execution_count": 29,
      "outputs": [
        {
          "output_type": "stream",
          "name": "stdout",
          "text": [
            "File file_1.txt created with size 5.00 MB\n",
            "File file_2.txt created with size 5.00 MB\n",
            "File file_3.txt created with size 5.00 MB\n",
            "File file_4.txt created with size 5.00 MB\n",
            "File file_5.txt created with size 5.00 MB\n",
            "File file_6.txt created with size 5.00 MB\n",
            "File file_7.txt created with size 5.00 MB\n",
            "File file_8.txt created with size 5.00 MB\n",
            "File file_9.txt created with size 5.00 MB\n",
            "File file_10.txt created with size 5.00 MB\n"
          ]
        }
      ]
    }
  ]
}